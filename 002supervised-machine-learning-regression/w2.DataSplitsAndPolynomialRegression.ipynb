{
 "cells": [
  {
   "cell_type": "markdown",
   "metadata": {},
   "source": [
    "# Data Splits and Polynomial Regression\n",
    "\n",
    "There are a few best practices to avoid overfitting of your regression models. One of these best practices is splitting your data into training and test sets. Another alternative is to use cross validation. And a third alternative is to introduce polynomial features. This module walks you through the theoretical framework and a few hands-on examples of these best practices.\n",
    "\n",
    "## Learning Objectives\n",
    "\n",
    "Realize the importance of having a test set to avoid overfitting\n",
    "\n",
    "Practice using the train_split function to split your data into training and testing sets\n",
    "\n",
    "Recognize the trade off between model complexity and prediction error\n",
    "\n",
    "Assess whether introducing polynomial features improves the error metrics of your linear regression"
   ]
  },
  {
   "cell_type": "markdown",
   "metadata": {},
   "source": [
    "## Training and Test Splits\n",
    "\n",
    "### Learning Goals\n",
    "\n",
    "In this section, we will cover:\n",
    "- Splitting data into training and testing samples\n",
    "- Cross-validation approaches\n",
    "- Model complexity vs. error\n",
    "\n",
    "![Fiting Training and Test Data](./images/07_FittingTrainingAndTestData.jpg \"Fitting Training and Test Data\")\n",
    "\n"
   ]
  },
  {
   "cell_type": "code",
   "execution_count": null,
   "metadata": {
    "vscode": {
     "languageId": "plaintext"
    }
   },
   "outputs": [],
   "source": [
    "# Import the train and test split function\n",
    "from sklearn.model_selection import train_test_split\n",
    "\n",
    "# Split the data and put 30% into the test set\n",
    "train, test = train_test_split(data, test_size=0.3)\n",
    "\n",
    "# Other method for splitting data\n",
    "from sklearn.model_selection import ShuffleSplit\n",
    "\n"
   ]
  },
  {
   "cell_type": "markdown",
   "metadata": {},
   "source": []
  }
 ],
 "metadata": {
  "language_info": {
   "name": "python"
  },
  "orig_nbformat": 4
 },
 "nbformat": 4,
 "nbformat_minor": 2
}
