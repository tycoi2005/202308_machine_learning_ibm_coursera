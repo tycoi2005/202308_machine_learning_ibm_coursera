{
 "cells": [
  {
   "cell_type": "code",
   "execution_count": null,
   "metadata": {},
   "outputs": [],
   "source": []
  },
  {
   "cell_type": "markdown",
   "metadata": {},
   "source": [
    "# Cross Validation\n",
    "\n",
    "The three most common cross validation approaches are:\n",
    "\n",
    "- k-fold cross validation\n",
    "\n",
    "- leave one out cross validation\n",
    "\n",
    "- stratified cross validation\n",
    "\n",
    "\n",
    "Cross validation method involves dividing the dataset into 3 parts:\n",
    "\n",
    "- training set - is a portion of the data used for training the model\n",
    "\n",
    "- validation set - is a portion of the data used to optimize the hyper-parameters of the model\n",
    "\n",
    "- test set - is a portion of the data used to evaluate the model \n",
    "\n",
    "\n",
    "# Cross Validation Syntax\n",
    "\n",
    "`Scikit Learn` library contains many methods that can perform the splitting of the data into training, testing and validation sets. The most popular methods that we covered in this module are:\n",
    "\n",
    "*   train_test_split - creates a single split into train and test sets\n",
    "\n",
    "*   K-fold - creates number of k-fold splits, allowing cross validation\n",
    "\n",
    "*   cross_val_score - evaluates model's score through cross validation\n",
    "\n",
    "*   cross_val_predict – produces the out-of-bag prediction for each row\n",
    "\n",
    "*   GridSearchCV – scans over parameters to select the best hyperparameter set with the best     \n",
    "\n",
    "     out-of-sample score"
   ]
  }
 ],
 "metadata": {
  "language_info": {
   "name": "python"
  },
  "orig_nbformat": 4
 },
 "nbformat": 4,
 "nbformat_minor": 2
}
