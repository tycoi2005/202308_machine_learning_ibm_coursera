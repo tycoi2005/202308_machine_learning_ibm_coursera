{
 "cells": [
  {
   "cell_type": "code",
   "execution_count": null,
   "metadata": {},
   "outputs": [],
   "source": []
  },
  {
   "cell_type": "markdown",
   "metadata": {},
   "source": [
    "# Further details of regularization\n",
    "\n",
    "## Understanding how Regularization Works\n",
    "\n",
    "Having worked through some Regularization examples, let's examine intuitively how\n",
    "these techniques (Ridge, LASSO, Elastic Net) interact with modeling.\n",
    "\n",
    "There are several approaches to this interpretation:\n",
    "- The Analytic View\n",
    "  - Increasing L2/L1 penalties force coefficients to be smaller, restricting their plausible range.\n",
    "  - A smaller range for coefficients must be simpler/lower variance than a model with an infinite possible coefficient range.\n",
    "- The Geometric View\n",
    "![The Geometric View](./images/14_GeometricView.png \"The Geometric View\")\n",
    "![The Geometric View 2](./images/15_GeometricView.png \"The Geometric View 2\")\n",
    "\n",
    "\n",
    "- The Probabilistic View\n",
    "![The Probabilistic View](./images/16_TheProbabilisticView.png \"The Probabilistic View\")\n",
    "\n",
    "Letting f be the likelihood (probability of target given parameter vector $\\beta$),\n",
    "and $p(\\beta)$ the prior distribution of $\\beta$, we can calculate the posterior of $\\beta$.\n",
    "\n",
    "$p(\\beta)$ is derived from independent draws of a prior coefficient density function $g$\n",
    "that we choose when regularizing.\n",
    "\n",
    "L2 (ridge) regularization imposes a Gaussian prior on the coefficients,\n",
    "while L1 (lasso) regularization imposes a Laplacian prior.\n",
    "\n",
    "```\n",
    "Prior is a belief you have on some quantity, typically on a set of parameters, without having any look at the data. If data is involved, the belief you have is updated and is called as posterior.\n",
    "\n",
    "In ridge regression, a gaussian prior on regression coefficients means that the coefficients are assumed to be distributed according to Gaussian/Normal distribution. Of course, one needs to assume mean and covariance structure as well.\n",
    "```\n",
    "\n",
    "![The Probabilistic View](./images/17_TheProbabilisticView.png \"The Probabilistic View\")\n"
   ]
  }
 ],
 "metadata": {
  "language_info": {
   "name": "python"
  },
  "orig_nbformat": 4
 },
 "nbformat": 4,
 "nbformat_minor": 2
}
