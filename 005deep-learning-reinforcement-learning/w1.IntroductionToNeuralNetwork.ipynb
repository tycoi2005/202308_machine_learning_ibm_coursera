{
 "cells": [
  {
   "cell_type": "markdown",
   "metadata": {},
   "source": [
    "# Introduction to neural network\n",
    "\n",
    "This module introduces Deep Learning, Neural Networks, and their applications. You will go through the theoretical background and characteristics that they share with other machine learning algorithms, as well as characteristics that make them stand out as great modeling techniques for specific scenarios. You will  also gain some hands-on practice on Neural Networks and key concepts that help these algorithms converge to robust solutions.\n",
    "\n",
    "## Learning Objectives\n",
    "\n",
    "Explain the kinds of problems suitable for Neural Networks and Deep Learning\n",
    "\n",
    "Describe the main components of a neural network\n",
    "\n",
    "Describe the steps in building a Neural Network model\n",
    "\n",
    "Become familiar with neural networks in Keras and Scikit learn\n",
    "\n",
    "Practice using Keras library for Deep Learning\n"
   ]
  },
  {
   "cell_type": "markdown",
   "metadata": {},
   "source": [
    "# Introduction\n",
    "\n",
    "## Course Introduction\n",
    "\n",
    "## Introduction to Neural Networks\n",
    "\n",
    "## Basics of Neurons\n",
    "\n",
    "## Neural Networks with Sklearn\n",
    "\n",
    "## Neuron in Action\n",
    "\n",
    "## Neural Networks with SKlearn\n",
    "\n",
    "## Forward Propagation\n",
    "\n",
    "## Matrix Representation of Forward Propagation\n",
    "\n",
    "## Main Types of Deep Neural Network"
   ]
  },
  {
   "cell_type": "markdown",
   "metadata": {},
   "source": [
    "# Optimization and Gradient Descent\n",
    "\n",
    "## Gradient Descent Basics\n",
    "\n",
    "## Compare Different Gradient Descent Methods\n",
    "\n"
   ]
  }
 ],
 "metadata": {
  "language_info": {
   "name": "python"
  }
 },
 "nbformat": 4,
 "nbformat_minor": 2
}
