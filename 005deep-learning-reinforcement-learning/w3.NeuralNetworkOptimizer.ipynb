{
 "cells": [
  {
   "cell_type": "markdown",
   "metadata": {},
   "source": [
    "# Neural Network Optimizers\n",
    "\n",
    "You can leverage several options to prioritize the training time or the accuracy of your neural network and deep learning models. In this module you learn about key concepts that intervene during model training, including optimizers and data shuffling. You will also gain hands-on practice using Keras, one of the go-to libraries for deep learning. \n",
    "\n",
    "Learning Objectives\n",
    "- Understand Neural Networks as the main unit for Deep Learning\n",
    "- Become familiarized with solution optimizers used in Neural Networks, including gradient descent and data shuffling"
   ]
  },
  {
   "cell_type": "markdown",
   "metadata": {},
   "source": [
    "# Optimizers and Data Shuffling\n",
    "\n",
    "## Optimizers and Momentum\n",
    "\n",
    "### Optimizers\n",
    "We have considered approaches to gradient descent\n",
    "that vary the number of data points involved in a step.\n",
    "\n",
    "However, they have all used the standard update formula:\n",
    "\n",
    "$$\n",
    "W := W - \\alpha • \\Delta J\n",
    "$$\n",
    "\n",
    "There are several variants to updating the weights which give better performance in practice.\n",
    "\n",
    "These successive \"tweaks\" each attempt to improve on the previous idea.\n",
    "\n",
    "The resulting (often complicated) methods are referred to as \"optimizers\".\n",
    "\n",
    "### Momentum\n",
    "\n",
    "Idea, only change direction by a little bit each time.\n",
    "\n",
    "Keeps a \"running average\" of the step directions, smoothing out the variation of the individual points.\n",
    "\n",
    "$V_t := \\eta • V_{t-1} - \\alpha • \\delta V$\n",
    "$W := W - V_t$\n",
    "\n",
    "Here, $\\eta$ is referred to as the \"momentum\".\n",
    "It is generally given a value <1\n",
    "\n",
    "![](./images/16_Momentum.png)\n",
    "\n",
    "#### Nesterov Momentum\n",
    "\n",
    "Idea: control \"overshooting\" by looking ahead.\n",
    "\n",
    "Apply gradient only to the \"non-momentum\" component.\n",
    "\n",
    "\n",
    "$v_t = \\eta • v_{t-1} - \\alpha • \\Delta(J - \\eta • v_{t-1})$\n",
    "\n",
    "$W== W - v_t$\n",
    "\n",
    "\n",
    "![](./images/17_NesterovMomentum.png)\n"
   ]
  },
  {
   "cell_type": "markdown",
   "metadata": {},
   "source": [
    "\n",
    "## Popular Optimizers\n",
    "\n",
    "## Details of Training Neural Networks\n",
    "\n",
    "## Data Shuffling\n",
    "\n",
    "## Transforms"
   ]
  }
 ],
 "metadata": {
  "language_info": {
   "name": "python"
  }
 },
 "nbformat": 4,
 "nbformat_minor": 2
}
