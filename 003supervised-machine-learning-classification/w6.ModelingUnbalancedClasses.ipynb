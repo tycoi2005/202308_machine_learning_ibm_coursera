{
 "cells": [
  {
   "cell_type": "markdown",
   "metadata": {},
   "source": [
    "# Modeling Unbalanced Classes\n",
    "\n",
    "Some classification models are better suited than others to outliers, low occurrence of a class, or rare events. The most common methods to add robustness to a classifier are related to stratified sampling to re-balance the training data. This module will walk you through both stratified sampling methods and more novel approaches to model data sets with unbalanced classes. \n",
    "\n",
    "## Learning Objectives\n",
    "\n",
    "Identify class weights and sampling as methods to deal with unbalanced classes in a data set.\n",
    "\n",
    "Recognize the syntax for building for sampling, blagging, and nearest neighbor methods for modeling unbalanced classes.\n"
   ]
  },
  {
   "cell_type": "markdown",
   "metadata": {},
   "source": [
    "## Model Interpretability\n",
    "\n",
    "### Examples of Self-Interpretable and Non-Self-Interpretable Models\n",
    "\n",
    "### Model-Agnostic Explanations\n",
    "\n",
    "### Surrogate Models\n",
    "\n",
    "### Practice Lab: Model Interpretability\n",
    "\n",
    "### Practice: Model interpretability"
   ]
  },
  {
   "cell_type": "markdown",
   "metadata": {},
   "source": [
    "## Introduction to Unbalanced Classes\n",
    "\n",
    "### Upsampling and Downsampling\n",
    "\n",
    "### Modeling Approaches: Weighting and Stratified Sampling\n",
    "\n",
    "### Modeling Approaches: Random and Synthetic Oversampling\n",
    "\n",
    "### Modeling Approaches: Nearing Neighbor Methods\n",
    "\n",
    "### Modeling Approaches: Blagging"
   ]
  }
 ],
 "metadata": {
  "language_info": {
   "name": "python"
  },
  "orig_nbformat": 4
 },
 "nbformat": 4,
 "nbformat_minor": 2
}
