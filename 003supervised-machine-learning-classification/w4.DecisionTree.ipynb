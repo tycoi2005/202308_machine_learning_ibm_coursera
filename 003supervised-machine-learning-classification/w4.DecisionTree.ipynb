{
 "cells": [
  {
   "cell_type": "code",
   "execution_count": null,
   "metadata": {},
   "outputs": [],
   "source": []
  },
  {
   "cell_type": "markdown",
   "metadata": {},
   "source": [
    "# Decision Trees\n",
    "\n",
    "Decision tree methods are a common baseline model for classification tasks due to their visual appeal and high interpretability. This module walks you through the theory behind decision trees and a few hands-on examples of building decision tree models for classification. You will realize the main pros and cons of these techniques. This background will be useful when you are presented with decision tree ensembles in the next module.\n",
    "\n",
    "## Learning Objectives\n",
    "- Describe and use decision trees and decision-tree ensemble models for classification\n",
    "- Identify and implement common ensemble models for classification, including bagging, boosting, stacking, and random forest.\n",
    "- Become familiarized with the pros and cons of decision tree methods\n",
    "- Build decision trees models with sklearn\n",
    "\n",
    "## Overview of Classifiers\n",
    "\n",
    "### Learning Goals\n",
    "\n",
    "In this section, we will cover:\n",
    "- Overview of Classification problems\n",
    "- Decision Tree Classification algorithm\n",
    "- Splitting Decision Trees: entropy and information gain\n",
    "- Pruning Decision Trees to address overfitting\n",
    "\n",
    "## Introduction to Decision Trees\n",
    "\n",
    "![](./images/36_DecisionTree.png)\n",
    "\n",
    "![](./images/37_DCContinuousValues.png)\n",
    "\n",
    "![](./images/38_DCCV_depth.png)\n"
   ]
  },
  {
   "cell_type": "markdown",
   "metadata": {},
   "source": [
    "\n",
    "## Building a Decision Tree\n",
    "\n",
    "![](./images/39_DCDepth.png)\n",
    "\n",
    "\n",
    "## Entropy-based Splitting\n",
    "## Other Decision Tree Splitting Criteria\n",
    "## Pros and Cons of Decision Trees"
   ]
  }
 ],
 "metadata": {
  "language_info": {
   "name": "python"
  },
  "orig_nbformat": 4
 },
 "nbformat": 4,
 "nbformat_minor": 2
}
