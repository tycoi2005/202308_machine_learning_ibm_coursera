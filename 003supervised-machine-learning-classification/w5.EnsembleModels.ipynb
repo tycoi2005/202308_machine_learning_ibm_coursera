{
 "cells": [
  {
   "cell_type": "markdown",
   "metadata": {},
   "source": [
    "# Ensemble models\n",
    "\n",
    "Ensemble models are a very popular technique as they can assist your models be more resistant to outliers and have better chances at generalizing with future data. They also gained popularity after several ensembles helped people win prediction competitions. Recently, stochastic gradient boosting became a go-to candidate model for many data scientists. This model walks you through the theory behind ensemble models and popular tree-based ensembles.\n",
    "\n",
    "## Learning Objectives\n",
    "\n",
    "Identify, use, and interpret common ensemble models for classification, including bagging, boosting, stacking, and random forest.\n",
    "\n",
    "Build ensemble models with sklearn, including bagging, boosting, stacking, and random forest.\n",
    "\n",
    "Identify common supervised machine learning algorithms."
   ]
  },
  {
   "cell_type": "code",
   "execution_count": null,
   "metadata": {
    "vscode": {
     "languageId": "plaintext"
    }
   },
   "outputs": [],
   "source": [
    "## Learning Goals\n",
    "\n",
    "In this section, we will cover:\n",
    "\n",
    "- Combining models (ensemble-based methods)\n",
    "- Bootstrap aggregation (Bagging)\n",
    "- Bagging, Random Forest, and Extra Trees Classifiers"
   ]
  },
  {
   "cell_type": "markdown",
   "metadata": {},
   "source": [
    "## Ensemble Based Methods and Bagging\n",
    "\n",
    "![](./images/52_CombineModelPredictions.png)\n",
    "\n",
    "![](./images/53_AggregateResults.png)\n",
    "\n",
    "### Bagging = Bootstrap Aggregating\n",
    "\n",
    "![](./images/55_HowManyTRees.png)\n",
    "\n",
    "![](./images/56_BaggingErrorCalculations.png)\n",
    "\n",
    "### Bagging Classifier: The Syntax\n",
    "\n",
    "```python\n",
    "# Import the class containing the classification method\n",
    "from sklearn.ensemble import BaggingClassifier\n",
    "\n",
    "# Create an instance of the class\n",
    "BC = BaggingClassifier (n estimators=50)\n",
    "\n",
    "# Fit the instance on the data and then predict the expected value\n",
    "BC = BC. fit (X train, y train)\n",
    "y_predict = BC. predict (X test)\n",
    "\n",
    "```\n",
    "Tune parameters with cross-validation. Use BaggingRegressor for regression."
   ]
  },
  {
   "cell_type": "markdown",
   "metadata": {},
   "source": [
    "## Random Forest\n",
    "\n",
    "![](./images/57_ReductionInVarianceDueToBagging.png)\n",
    "\n",
    "![](./images/58_RandomForest.png)\n",
    "\n",
    "![](./images/59_HowManyTreesInForest.png)\n",
    "\n",
    "### RandomForest: The Syntax\n",
    "```python\n",
    "# Import the class containing the classification method\n",
    "from sklearn.ensemble import RandomForestClassifier\n",
    "\n",
    "# Create an instance of the class\n",
    "RC = RandomForestClassifier(n_estimators=50)\n",
    "\n",
    "# Fit the instance on the data and then predict the expected value\n",
    "RC = RC.fit(X_train, y_train)\n",
    "y_predict = RC.predict (X_test)\n",
    "```\n",
    "\n",
    "Tune parameters with cross-validation. Use RandomForestRegressor for regression.\n",
    "\n",
    "\n",
    "### Introducing Even More Randomness\n",
    "\n",
    "Sometimes additional randomness is desired beyond Random Forest.\n",
    "\n",
    "Solution: select features randomly and create splits randomly --- don't choose greedily.\n",
    "\n",
    "Called \"Extra Random Trees\".\n",
    "\n",
    "### Extra Trees Classifier: The Syntax\n",
    "```python\n",
    "# Import the class containing the classification method\n",
    "from sklearn. ensemble import ExtraTreesClassifier\n",
    "\n",
    "# Create an instance of the class\n",
    "EC = ExtraTreesClassifier (n estimators=50)\n",
    "\n",
    "# Fit the instance on the data and then predict the expected value\n",
    "EC = EC. fit (X train, y train)\n",
    "y_ predict = EC. predict (X test)\n",
    "```\n",
    "\n",
    "Tune parameters with cross-validation. Use ExtraTreesRegressor for regression."
   ]
  },
  {
   "cell_type": "markdown",
   "metadata": {},
   "source": [
    "## Bagging labs"
   ]
  },
  {
   "cell_type": "markdown",
   "metadata": {},
   "source": [
    "## Boosting and stacking\n"
   ]
  }
 ],
 "metadata": {
  "language_info": {
   "name": "python"
  },
  "orig_nbformat": 4
 },
 "nbformat": 4,
 "nbformat_minor": 2
}
