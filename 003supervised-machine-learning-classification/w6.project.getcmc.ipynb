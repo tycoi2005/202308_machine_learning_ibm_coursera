{
 "cells": [
  {
   "cell_type": "code",
   "execution_count": 1,
   "metadata": {},
   "outputs": [
    {
     "data": {
      "text/plain": [
       "{'cryptoId': 13745,\n",
       " 'icoPriceUsd': 0.08,\n",
       " 'currentStage': 'IDO',\n",
       " 'end': '2021-11-24T02:00:00.000Z',\n",
       " 'goalUsd': 98000,\n",
       " 'launchPad': {'exchangeName': 'Redkite',\n",
       "  'launchpadUrl': 'https://redkite.polkafoundry.com/#/buy-token/109'},\n",
       " 'crypto': {'id': 13745,\n",
       "  'name': 'Polygonum Online',\n",
       "  'symbol': 'POG',\n",
       "  'slug': 'polygonum-online',\n",
       "  'logo': 'https://s2.coinmarketcap.com/static/img/coins/64x64/13745.png',\n",
       "  'tags': ['gaming', 'play-to-earn'],\n",
       "  'contracts': [{'id': 1839, 'name': 'BNB Smart Chain (BEP20)'}]}}"
      ]
     },
     "execution_count": 1,
     "metadata": {},
     "output_type": "execute_result"
    }
   ],
   "source": [
    "import json\n",
    "\n",
    "\n",
    "icos = json.load(open('./pj_data/w6.project.cmc.json'))\n",
    "icoList = icos['data']['icoList']\n",
    "\n",
    "icoList[0]"
   ]
  },
  {
   "cell_type": "code",
   "execution_count": 6,
   "metadata": {},
   "outputs": [
    {
     "data": {
      "text/plain": [
       "{'cryptoId': 24858,\n",
       " 'icoPriceUsd': 0.6,\n",
       " 'currentStage': 'IDO',\n",
       " 'start': '2023-08-23T12:00:00.000Z',\n",
       " 'end': '2023-08-26T00:00:00.000Z',\n",
       " 'goalUsd': 1500000,\n",
       " 'launchPad': {'exchangeName': 'Fjord',\n",
       "  'launchpadUrl': 'https://fjordfoundry.com/pools/mainnet/0xC0d9c93759399dDB7310F68f6D007Ba8c55c8cb6'},\n",
       " 'crypto': {'id': 24858,\n",
       "  'name': 'Altitude',\n",
       "  'symbol': 'ALTD',\n",
       "  'slug': 'altitude',\n",
       "  'logo': 'https://s2.coinmarketcap.com/static/img/coins/64x64/24858.png'}}"
      ]
     },
     "execution_count": 6,
     "metadata": {},
     "output_type": "execute_result"
    }
   ],
   "source": [
    "icoList[2]"
   ]
  },
  {
   "cell_type": "code",
   "execution_count": 25,
   "metadata": {},
   "outputs": [],
   "source": [
    "# Create list id\n",
    "ids = []\n",
    "ids_list = []\n",
    "for item in icoList:\n",
    "    ids.append(str(item.get('cryptoId')))\n",
    "    if (len(ids)>100):\n",
    "        ids_list.append(ids)\n",
    "        ids = []"
   ]
  },
  {
   "cell_type": "code",
   "execution_count": 26,
   "metadata": {},
   "outputs": [],
   "source": [
    "from coinmarketcapapi import CoinMarketCapAPI\n",
    "\n",
    "api_key = open('../testcodes/cmc.apikey').read()\n",
    "\n",
    "cmc = CoinMarketCapAPI(api_key=api_key)\n",
    "\n",
    "reps = []\n",
    "for ids in ids_list:\n",
    "    ids_str = ','.join(ids)\n",
    "    rep = cmc.cryptocurrency_quotes_latest(id=ids_str) # See methods below\n",
    "    reps.append(rep)\n"
   ]
  },
  {
   "cell_type": "code",
   "execution_count": 28,
   "metadata": {},
   "outputs": [],
   "source": [
    "map = {}\n",
    "for rep in reps:\n",
    "    data = rep.data\n",
    "    for k in data:\n",
    "        map[k] = data[k]"
   ]
  },
  {
   "cell_type": "code",
   "execution_count": 30,
   "metadata": {},
   "outputs": [],
   "source": [
    "import json\n",
    "with open('./pj_data/price_data.json', 'w') as fp:\n",
    "    json.dump(map, fp)"
   ]
  },
  {
   "cell_type": "code",
   "execution_count": 36,
   "metadata": {},
   "outputs": [
    {
     "name": "stdout",
     "output_type": "stream",
     "text": [
      "{'id': 8999, 'name': 'Collateral Pay', 'symbol': 'COLL', 'slug': 'collateral-pay', 'num_market_pairs': 3, 'date_added': '2021-04-16T00:00:00.000Z', 'tags': [{'slug': 'duckstarter', 'name': 'DuckSTARTER', 'category': 'CATEGORY'}, {'slug': 'bnb-chain', 'name': 'BNB Chain', 'category': 'PLATFORM'}], 'max_supply': None, 'circulating_supply': 6192106.06690768, 'total_supply': 50000000, 'platform': {'id': 1027, 'name': 'Ethereum', 'symbol': 'ETH', 'slug': 'ethereum', 'token_address': '0x957891c11616d3e0b0a76a76fb42724c382e0ef3'}, 'is_active': 0, 'infinite_supply': False, 'cmc_rank': None, 'is_fiat': 0, 'self_reported_circulating_supply': None, 'self_reported_market_cap': None, 'tvl_ratio': None, 'last_updated': '2023-05-20T18:30:00.000Z', 'quote': {'USD': {'price': 0.011562960656544429, 'volume_24h': 0, 'volume_change_24h': 0, 'percent_change_1h': 0, 'percent_change_24h': 0, 'percent_change_7d': -2.00484066, 'percent_change_30d': -6.49794651, 'percent_change_60d': 1.93286649, 'percent_change_90d': 28.76383026, 'market_cap': 71599.07883280357, 'market_cap_dominance': 0, 'fully_diluted_market_cap': 578148.03, 'tvl': None, 'last_updated': '2023-05-20T18:30:00.000Z'}}}\n"
     ]
    }
   ],
   "source": [
    "coll = map.get('8999')\n",
    "print(coll)"
   ]
  },
  {
   "cell_type": "code",
   "execution_count": 37,
   "metadata": {},
   "outputs": [
    {
     "name": "stdout",
     "output_type": "stream",
     "text": [
      "{'id': 13745, 'name': 'Polygonum Online', 'symbol': 'POG', 'slug': 'polygonum-online', 'num_market_pairs': 7, 'date_added': '2021-11-30T05:20:03.000Z', 'tags': [{'slug': 'gaming', 'name': 'Gaming', 'category': 'INDUSTRY'}, {'slug': 'play-to-earn', 'name': 'Play To Earn', 'category': 'CATEGORY'}], 'max_supply': 100000000, 'circulating_supply': 0, 'total_supply': 100000000, 'platform': {'id': 1839, 'name': 'BNB Smart Chain (BEP20)', 'symbol': 'BNB', 'slug': 'bnb', 'token_address': '0xfcb0f2d2f83a32a847d8abb183b724c214cd7dd8'}, 'is_active': 1, 'infinite_supply': False, 'cmc_rank': 8065, 'is_fiat': 0, 'self_reported_circulating_supply': None, 'self_reported_market_cap': None, 'tvl_ratio': None, 'last_updated': '2023-09-17T09:11:00.000Z', 'quote': {'USD': {'price': 0.005751353610902459, 'volume_24h': 0, 'volume_change_24h': 0, 'percent_change_1h': -0.01031747, 'percent_change_24h': -0.00075712, 'percent_change_7d': 0.02891297, 'percent_change_30d': 0.06680102, 'percent_change_60d': 0.02131838, 'percent_change_90d': 0.03480307, 'market_cap': 0, 'market_cap_dominance': 0, 'fully_diluted_market_cap': 575135.36, 'tvl': None, 'last_updated': '2023-09-17T09:11:00.000Z'}}}\n"
     ]
    }
   ],
   "source": [
    "pog = map.get('13745')\n",
    "print(pog)"
   ]
  },
  {
   "cell_type": "code",
   "execution_count": 18,
   "metadata": {},
   "outputs": [
    {
     "name": "stdout",
     "output_type": "stream",
     "text": [
      "{'1839': {'id': 1839, 'name': 'BNB', 'symbol': 'BNB', 'slug': 'bnb', 'num_market_pairs': 1624, 'date_added': '2017-07-25T00:00:00.000Z', 'tags': [{'slug': 'marketplace', 'name': 'Marketplace', 'category': 'INDUSTRY'}, {'slug': 'centralized-exchange', 'name': 'Centralized Exchange (CEX) Token', 'category': 'CATEGORY'}, {'slug': 'payments', 'name': 'Payments', 'category': 'INDUSTRY'}, {'slug': 'smart-contracts', 'name': 'Smart Contracts', 'category': 'CATEGORY'}, {'slug': 'alameda-research-portfolio', 'name': 'Alameda Research Portfolio', 'category': 'CATEGORY'}, {'slug': 'multicoin-capital-portfolio', 'name': 'Multicoin Capital Portfolio', 'category': 'CATEGORY'}, {'slug': 'bnb-chain', 'name': 'BNB Chain', 'category': 'PLATFORM'}, {'slug': 'layer-1', 'name': 'Layer 1', 'category': 'CATEGORY'}, {'slug': 'sec-security-token', 'name': 'SEC Security Token', 'category': 'CATEGORY'}, {'slug': 'alleged-sec-securities', 'name': 'Alleged SEC Securities', 'category': 'CATEGORY'}, {'slug': 'celsius-bankruptcy-estate', 'name': 'Celsius Bankruptcy Estate', 'category': 'CATEGORY'}], 'max_supply': None, 'circulating_supply': 153848317.95479125, 'total_supply': 153848317.95479125, 'is_active': 1, 'infinite_supply': False, 'platform': None, 'cmc_rank': 4, 'is_fiat': 0, 'self_reported_circulating_supply': None, 'self_reported_market_cap': None, 'tvl_ratio': None, 'last_updated': '2023-09-17T09:01:00.000Z', 'quote': {'USD': {'price': 215.05086860007853, 'volume_24h': 334244275.7446818, 'volume_change_24h': -47.0154, 'percent_change_1h': 0.18409137, 'percent_change_24h': 0.47324467, 'percent_change_7d': 1.02566665, 'percent_change_30d': -1.80245328, 'percent_change_60d': -10.8659757, 'percent_change_90d': -11.49088493, 'market_cap': 33085214408.838917, 'market_cap_dominance': 3.128, 'fully_diluted_market_cap': 33085214408.84, 'tvl': None, 'last_updated': '2023-09-17T09:01:00.000Z'}}}, '8999': {'id': 8999, 'name': 'Collateral Pay', 'symbol': 'COLL', 'slug': 'collateral-pay', 'num_market_pairs': 3, 'date_added': '2021-04-16T00:00:00.000Z', 'tags': [{'slug': 'duckstarter', 'name': 'DuckSTARTER', 'category': 'CATEGORY'}, {'slug': 'bnb-chain', 'name': 'BNB Chain', 'category': 'PLATFORM'}], 'max_supply': None, 'circulating_supply': 6192106.06690768, 'total_supply': 50000000, 'platform': {'id': 1027, 'name': 'Ethereum', 'symbol': 'ETH', 'slug': 'ethereum', 'token_address': '0x957891c11616d3e0b0a76a76fb42724c382e0ef3'}, 'is_active': 0, 'infinite_supply': False, 'cmc_rank': None, 'is_fiat': 0, 'self_reported_circulating_supply': None, 'self_reported_market_cap': None, 'tvl_ratio': None, 'last_updated': '2023-05-20T18:30:00.000Z', 'quote': {'USD': {'price': 0.011562960656544429, 'volume_24h': 0, 'volume_change_24h': 0, 'percent_change_1h': 0, 'percent_change_24h': 0, 'percent_change_7d': -2.00484066, 'percent_change_30d': -6.49794651, 'percent_change_60d': 1.93286649, 'percent_change_90d': 28.76383026, 'market_cap': 71599.07883280357, 'market_cap_dominance': 0, 'fully_diluted_market_cap': 578148.03, 'tvl': None, 'last_updated': '2023-05-20T18:30:00.000Z'}}}, '13745': {'id': 13745, 'name': 'Polygonum Online', 'symbol': 'POG', 'slug': 'polygonum-online', 'num_market_pairs': 7, 'date_added': '2021-11-30T05:20:03.000Z', 'tags': [{'slug': 'gaming', 'name': 'Gaming', 'category': 'INDUSTRY'}, {'slug': 'play-to-earn', 'name': 'Play To Earn', 'category': 'CATEGORY'}], 'max_supply': 100000000, 'circulating_supply': 0, 'total_supply': 100000000, 'platform': {'id': 1839, 'name': 'BNB Smart Chain (BEP20)', 'symbol': 'BNB', 'slug': 'bnb', 'token_address': '0xfcb0f2d2f83a32a847d8abb183b724c214cd7dd8'}, 'is_active': 1, 'infinite_supply': False, 'cmc_rank': 8063, 'is_fiat': 0, 'self_reported_circulating_supply': None, 'self_reported_market_cap': None, 'tvl_ratio': None, 'last_updated': '2023-09-17T09:01:00.000Z', 'quote': {'USD': {'price': 0.005752400641523121, 'volume_24h': 0, 'volume_change_24h': 0, 'percent_change_1h': -0.02848531, 'percent_change_24h': -0.00160983, 'percent_change_7d': 0.05386468, 'percent_change_30d': 0.09046188, 'percent_change_60d': 0.0216167, 'percent_change_90d': 0.06108291, 'market_cap': 0, 'market_cap_dominance': 0, 'fully_diluted_market_cap': 575240.06, 'tvl': None, 'last_updated': '2023-09-17T09:01:00.000Z'}}}, '24858': {'id': 24858, 'name': 'Altitude', 'symbol': 'ALTD', 'slug': 'altitude', 'num_market_pairs': 10, 'date_added': '2023-05-02T00:57:29.000Z', 'tags': [{'slug': 'camelot-launchpad', 'name': 'Camelot Launchpad', 'category': 'CATEGORY'}], 'max_supply': 100000000, 'circulating_supply': 0, 'total_supply': 100000000, 'platform': {'id': 1027, 'name': 'Ethereum', 'symbol': 'ETH', 'slug': 'ethereum', 'token_address': '0x8929e9dbd2785e3ba16175e596cdd61520fee0d1'}, 'is_active': 1, 'infinite_supply': False, 'cmc_rank': 4298, 'is_fiat': 0, 'self_reported_circulating_supply': 1600000, 'self_reported_market_cap': 89455.12076686116, 'tvl_ratio': None, 'last_updated': '2023-09-17T09:01:00.000Z', 'quote': {'USD': {'price': 0.05590945047928823, 'volume_24h': 8336.21188908, 'volume_change_24h': 53.5548, 'percent_change_1h': -0.22371938, 'percent_change_24h': -6.49265493, 'percent_change_7d': -34.18050124, 'percent_change_30d': -76.24763423, 'percent_change_60d': -76.24763423, 'percent_change_90d': -76.24763423, 'market_cap': 0, 'market_cap_dominance': 0, 'fully_diluted_market_cap': 5590945.05, 'tvl': None, 'last_updated': '2023-09-17T09:01:00.000Z'}}}}\n",
      "1839\n",
      "{'id': 1839, 'name': 'BNB', 'symbol': 'BNB', 'slug': 'bnb', 'num_market_pairs': 1624, 'date_added': '2017-07-25T00:00:00.000Z', 'tags': [{'slug': 'marketplace', 'name': 'Marketplace', 'category': 'INDUSTRY'}, {'slug': 'centralized-exchange', 'name': 'Centralized Exchange (CEX) Token', 'category': 'CATEGORY'}, {'slug': 'payments', 'name': 'Payments', 'category': 'INDUSTRY'}, {'slug': 'smart-contracts', 'name': 'Smart Contracts', 'category': 'CATEGORY'}, {'slug': 'alameda-research-portfolio', 'name': 'Alameda Research Portfolio', 'category': 'CATEGORY'}, {'slug': 'multicoin-capital-portfolio', 'name': 'Multicoin Capital Portfolio', 'category': 'CATEGORY'}, {'slug': 'bnb-chain', 'name': 'BNB Chain', 'category': 'PLATFORM'}, {'slug': 'layer-1', 'name': 'Layer 1', 'category': 'CATEGORY'}, {'slug': 'sec-security-token', 'name': 'SEC Security Token', 'category': 'CATEGORY'}, {'slug': 'alleged-sec-securities', 'name': 'Alleged SEC Securities', 'category': 'CATEGORY'}, {'slug': 'celsius-bankruptcy-estate', 'name': 'Celsius Bankruptcy Estate', 'category': 'CATEGORY'}], 'max_supply': None, 'circulating_supply': 153848317.95479125, 'total_supply': 153848317.95479125, 'is_active': 1, 'infinite_supply': False, 'platform': None, 'cmc_rank': 4, 'is_fiat': 0, 'self_reported_circulating_supply': None, 'self_reported_market_cap': None, 'tvl_ratio': None, 'last_updated': '2023-09-17T09:01:00.000Z', 'quote': {'USD': {'price': 215.05086860007853, 'volume_24h': 334244275.7446818, 'volume_change_24h': -47.0154, 'percent_change_1h': 0.18409137, 'percent_change_24h': 0.47324467, 'percent_change_7d': 1.02566665, 'percent_change_30d': -1.80245328, 'percent_change_60d': -10.8659757, 'percent_change_90d': -11.49088493, 'market_cap': 33085214408.838917, 'market_cap_dominance': 3.128, 'fully_diluted_market_cap': 33085214408.84, 'tvl': None, 'last_updated': '2023-09-17T09:01:00.000Z'}}}\n",
      "8999\n",
      "{'id': 8999, 'name': 'Collateral Pay', 'symbol': 'COLL', 'slug': 'collateral-pay', 'num_market_pairs': 3, 'date_added': '2021-04-16T00:00:00.000Z', 'tags': [{'slug': 'duckstarter', 'name': 'DuckSTARTER', 'category': 'CATEGORY'}, {'slug': 'bnb-chain', 'name': 'BNB Chain', 'category': 'PLATFORM'}], 'max_supply': None, 'circulating_supply': 6192106.06690768, 'total_supply': 50000000, 'platform': {'id': 1027, 'name': 'Ethereum', 'symbol': 'ETH', 'slug': 'ethereum', 'token_address': '0x957891c11616d3e0b0a76a76fb42724c382e0ef3'}, 'is_active': 0, 'infinite_supply': False, 'cmc_rank': None, 'is_fiat': 0, 'self_reported_circulating_supply': None, 'self_reported_market_cap': None, 'tvl_ratio': None, 'last_updated': '2023-05-20T18:30:00.000Z', 'quote': {'USD': {'price': 0.011562960656544429, 'volume_24h': 0, 'volume_change_24h': 0, 'percent_change_1h': 0, 'percent_change_24h': 0, 'percent_change_7d': -2.00484066, 'percent_change_30d': -6.49794651, 'percent_change_60d': 1.93286649, 'percent_change_90d': 28.76383026, 'market_cap': 71599.07883280357, 'market_cap_dominance': 0, 'fully_diluted_market_cap': 578148.03, 'tvl': None, 'last_updated': '2023-05-20T18:30:00.000Z'}}}\n",
      "13745\n",
      "{'id': 13745, 'name': 'Polygonum Online', 'symbol': 'POG', 'slug': 'polygonum-online', 'num_market_pairs': 7, 'date_added': '2021-11-30T05:20:03.000Z', 'tags': [{'slug': 'gaming', 'name': 'Gaming', 'category': 'INDUSTRY'}, {'slug': 'play-to-earn', 'name': 'Play To Earn', 'category': 'CATEGORY'}], 'max_supply': 100000000, 'circulating_supply': 0, 'total_supply': 100000000, 'platform': {'id': 1839, 'name': 'BNB Smart Chain (BEP20)', 'symbol': 'BNB', 'slug': 'bnb', 'token_address': '0xfcb0f2d2f83a32a847d8abb183b724c214cd7dd8'}, 'is_active': 1, 'infinite_supply': False, 'cmc_rank': 8063, 'is_fiat': 0, 'self_reported_circulating_supply': None, 'self_reported_market_cap': None, 'tvl_ratio': None, 'last_updated': '2023-09-17T09:01:00.000Z', 'quote': {'USD': {'price': 0.005752400641523121, 'volume_24h': 0, 'volume_change_24h': 0, 'percent_change_1h': -0.02848531, 'percent_change_24h': -0.00160983, 'percent_change_7d': 0.05386468, 'percent_change_30d': 0.09046188, 'percent_change_60d': 0.0216167, 'percent_change_90d': 0.06108291, 'market_cap': 0, 'market_cap_dominance': 0, 'fully_diluted_market_cap': 575240.06, 'tvl': None, 'last_updated': '2023-09-17T09:01:00.000Z'}}}\n",
      "24858\n",
      "{'id': 24858, 'name': 'Altitude', 'symbol': 'ALTD', 'slug': 'altitude', 'num_market_pairs': 10, 'date_added': '2023-05-02T00:57:29.000Z', 'tags': [{'slug': 'camelot-launchpad', 'name': 'Camelot Launchpad', 'category': 'CATEGORY'}], 'max_supply': 100000000, 'circulating_supply': 0, 'total_supply': 100000000, 'platform': {'id': 1027, 'name': 'Ethereum', 'symbol': 'ETH', 'slug': 'ethereum', 'token_address': '0x8929e9dbd2785e3ba16175e596cdd61520fee0d1'}, 'is_active': 1, 'infinite_supply': False, 'cmc_rank': 4298, 'is_fiat': 0, 'self_reported_circulating_supply': 1600000, 'self_reported_market_cap': 89455.12076686116, 'tvl_ratio': None, 'last_updated': '2023-09-17T09:01:00.000Z', 'quote': {'USD': {'price': 0.05590945047928823, 'volume_24h': 8336.21188908, 'volume_change_24h': 53.5548, 'percent_change_1h': -0.22371938, 'percent_change_24h': -6.49265493, 'percent_change_7d': -34.18050124, 'percent_change_30d': -76.24763423, 'percent_change_60d': -76.24763423, 'percent_change_90d': -76.24763423, 'market_cap': 0, 'market_cap_dominance': 0, 'fully_diluted_market_cap': 5590945.05, 'tvl': None, 'last_updated': '2023-09-17T09:01:00.000Z'}}}\n"
     ]
    }
   ],
   "source": []
  }
 ],
 "metadata": {
  "kernelspec": {
   "display_name": "Python 3",
   "language": "python",
   "name": "python3"
  },
  "language_info": {
   "codemirror_mode": {
    "name": "ipython",
    "version": 3
   },
   "file_extension": ".py",
   "mimetype": "text/x-python",
   "name": "python",
   "nbconvert_exporter": "python",
   "pygments_lexer": "ipython3",
   "version": "3.11.5"
  },
  "orig_nbformat": 4
 },
 "nbformat": 4,
 "nbformat_minor": 2
}
