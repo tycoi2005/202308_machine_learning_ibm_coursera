{
 "cells": [
  {
   "cell_type": "markdown",
   "metadata": {},
   "source": [
    "# Estimation and Inference, and Hypothesis Testing\n",
    "## Estimation and Inference\n",
    "- estimate is just going to give us an estimate of a certain parameter, such as the mean from our sample data.\n",
    "- When performing statistical inference, we're trying to understand the underlying distribution of the population, including our estimates of the mean, as well as other parameters such as the standard error of the underlying properties of the population that we're sampling from\n",
    "\n",
    "## Machine Learning and Statistical Inference\n",
    "Machine learning and statistical inference are similar\n",
    "\n",
    "(a case of computer science borrowing from a long history in statistics).\n",
    "\n",
    "In both cases, we're using data to learn/infer qualities of a distribution that generated the data\n",
    "(often termed the data -generating process).\n",
    "\n",
    "We may care either about the whole distribution or just features (e.g. mean).\n",
    "\n",
    "Machine learning applications that focus on understanding parameters and individual effects\n",
    "involve more tools from statistical inference (some applications are focused only on results).\n",
    "\n",
    "## Parametric versus Non-parametric. \n",
    "A statistical inference is about finding the underlying data generating process of our data, then the statistical model is going to be a set of the possible distributions or even reggressions that that data can take\n",
    "\n",
    "parametric model is a particular type of statistical model. What differentiates a parametric model? Some of the major characteristics, or that a parametric model is constrained to a finite number of parameters, and that'll rely on some strict assumptions made about the distributions from which that data is pulled.\n",
    "\n",
    "non-parametric models, will mean that our inference will not rely on as many assumptions, such as it will not have to rely on the data being pulled from a particular distribution, it'll be a distribution free inference.\n",
    "\n",
    "## common distributions\n",
    "- Uniform distribution\n",
    "- Normal/Gaussian distribution\n",
    "- Log-normal distribution => log transformation => normal distribution\n",
    "- exponential curve\n",
    "- poison distribution\n",
    "\n",
    "## Bayesian and frequentist statistics\n",
    "- Frequentist statistics is concerned with repeated observations to the limit\n",
    "- processes may have true frequencies in their real population mean or whatever it is. But we're interested in modeling probabilities as many, many repeats of an experiment\n",
    "\n",
    "## Frequentist vs. Bayesian: Bayesian\n",
    "A Bayesian describes parameters by probability distributions.\n",
    "\n",
    "Before seeing any data, a prior distribution (based on the experimenters' belief) is formulated.\n",
    "\n",
    "This prior distribution is then updated after seeing data (a sample from the distribution).\n",
    "\n",
    "After updating, the distribution is called the posterior distribution."
   ]
  },
  {
   "cell_type": "code",
   "execution_count": null,
   "metadata": {},
   "outputs": [],
   "source": []
  },
  {
   "cell_type": "markdown",
   "metadata": {},
   "source": [
    "\n",
    "## Hypothesis Testing\n",
    "A hypothesis is a statement about a population parameter.\n",
    "\n",
    "We create two hypotheses:\n",
    "- The null hypothesis (Ho)\n",
    "- The alternative hypothesis (H1, or HA)\n",
    "\n",
    "We decide which one to call the null depending on how the problem is set up.\n",
    "\n",
    "A hypothesis testing procedure gives us a rule to decide:\n",
    "- For which values of the test statistic do we accept Ho\n",
    "- For which values of the test statistic do we reject Ho, and accept H1,"
   ]
  }
 ],
 "metadata": {
  "language_info": {
   "name": "python"
  },
  "orig_nbformat": 4
 },
 "nbformat": 4,
 "nbformat_minor": 2
}
