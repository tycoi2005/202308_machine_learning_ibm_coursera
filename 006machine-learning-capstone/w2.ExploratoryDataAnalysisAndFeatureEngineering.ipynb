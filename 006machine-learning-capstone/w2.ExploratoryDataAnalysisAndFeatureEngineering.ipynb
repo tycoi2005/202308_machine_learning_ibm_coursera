{
 "cells": [
  {
   "cell_type": "markdown",
   "metadata": {},
   "source": [
    "# Exploratory Data Analysis And Feature Engineering"
   ]
  },
  {
   "cell_type": "markdown",
   "metadata": {},
   "source": [
    "In module 2, you will perform exploratory data analysis to find preliminary insights such as data patterns. You will also use it to check assumptions with the help of summary statistics and graphical representations of online course-related data sets such as course titles, course genres, and course enrollments. Next, you will extract a word-count vector called a “bag of words” (BoW) from course titles and descriptions. The BoW feature is probably the simplest but most effective feature characterizing textual data. It is widely used in many textual machine learning tasks. Finally, you will apply the cosine similarity measurement to calculate the course similarity using the extracted BoW feature vectors.\n",
    "\n",
    "Learning Objectives\n",
    "- Develop an exploratory data analysis on course enrollment data\n",
    "- Write code to count the frequencies of words (bag of words) in a set of course titles\n",
    "- Calculate the cosine similarity between two vectors\n",
    "\n"
   ]
  }
 ],
 "metadata": {
  "language_info": {
   "name": "python"
  }
 },
 "nbformat": 4,
 "nbformat_minor": 2
}
