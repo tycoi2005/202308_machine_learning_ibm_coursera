{
 "cells": [
  {
   "cell_type": "markdown",
   "metadata": {},
   "source": [
    "# Final Submission\n",
    "\n",
    "In this final module you will complete your submission of screenshots from the hands-on labs for your peers to review. Once you have completed your submission you will then review the submission of one of your peers and grade their submission.\n",
    "\n",
    "Learning Objectives\n",
    "\n",
    "- Share the PowerPoint with your peers\n",
    "- Create a comprehensive PowerPoint presentation to demonstrate what you have done in this capstone project"
   ]
  },
  {
   "cell_type": "markdown",
   "metadata": {},
   "source": [
    "# Capstone Project: Final Task\n",
    "\n",
    "The final task of this capstone project is to create a presentation based on the\n",
    "outcomes of all tasks in previous modules and labs.\n",
    "Your presentation will develop into a story of all your machine learning journey in this project, and it should be compelling and easy to understand.\n",
    "\n",
    "In the next exercise, you can find a provided PowerPoint template to help you get started to\n",
    "create a report in slides format. There are placeholders in the template for each of the required elements of the project,\n",
    "and that instructions are provided on each slide. You need to delete and replace the placeholders with the actual content.\n",
    "However, you are encouraged to add additional elements such as slides, charts, and tables.\n",
    "\n",
    "There are a total of 70 points possible points for the final assessment,\n",
    "and you will be graded by your peers, who are also completing this assignment.\n",
    "\n",
    "The main grading criteria will be:\n",
    "\n",
    "- Uploaded your completed presentation in PDF format (2 pts)\n",
    "- Completed the required Introduction slide (4 pt)\n",
    "- Completed the required Exploratory Data Analysis slides (8 pts)\n",
    "- Completed the required content-based recommender system using user profile and course genres slides (6 pts)\n",
    "- Completed the required content-based recommender system using course similarity slides (6 pts)\n",
    "- Completed the required content-based recommender system using user profile clustering slides (6 pts)\n",
    "- Completed the required KNN-based collaborative filtering slide (6 pts)\n",
    "- Completed the required NMF-based collaborative filtering slide (6 pts)\n",
    "- Completed the required neural network embedding based collaborative filtering slide (6 pts)\n",
    "- Completed the required collaborative filtering algorithms evaluation slides (6 pts)\n",
    "- Completed the required Conclusion slide (6 pts)\n",
    "- Applied your creativity to improve the presentation beyond the template (4 pts)\n",
    "- Displayed any innovative insights (4 pts)\n",
    "\n",
    "You may find more instructions in the PPT template. Also, you will\n",
    "not be judged on your English language, including spelling, or grammatical mistakes."
   ]
  },
  {
   "cell_type": "markdown",
   "metadata": {},
   "source": [
    "# ML Template\n",
    "\n",
    "Download the Microsoft PowerPoint presentation template from the link below:\n",
    "\n",
    "Machine Learning Capstone PowerPoint template\n",
    "\n",
    "Note: If you do not have a desktop version then follow the instructions from the previous lab to get access to PowerPoint online.\n",
    "\n",
    "- Complete the slides with relevant details (You are free to add additional slides, charts, tables)\n",
    "- Add any additional unused charts or tables to the appendix that you think are relevant to your analysis\n",
    "- Convert your final presentation into .pdf format\n",
    "- As part of your grade for the final assignment, you will be asked to upload your presentation for peer review\n",
    "- You will also need to review the final presentation for at least one other peer and grade them before your final grade will be available"
   ]
  },
  {
   "cell_type": "markdown",
   "metadata": {},
   "source": [
    "# Congratulations and Next Steps\n",
    "\n",
    "Congratulations on completing this course. We hope you enjoyed it.\n",
    "\n",
    "Machine learning professionals are expected to have skills with multiple tools and programming languages. \n",
    "\n",
    "If you would like to brush up on Python skills for data analytics, as a next step, you can take: \n",
    "\n",
    "https://www.coursera.org/professional-certificates/ibm-data-analyst\n",
    " \n",
    "\n",
    "If you would like to learn how to develop AI-powered applications, you can take:\n",
    "\n",
    "https://www.coursera.org/professional-certificates/applied-artifical-intelligence-ibm-watson-ai\n",
    " \n",
    "\n",
    "If you would like to add more Machine Learning skills to your resume and learn about Deep Learning, you can take:\n",
    "\n",
    "https://www.coursera.org/professional-certificates/ai-engineer\n",
    " \n",
    "\n",
    "We encourage you to leave your feedback and rate this course so that we can continue to improve the course content.\n",
    "\n",
    "Good luck!"
   ]
  }
 ],
 "metadata": {
  "language_info": {
   "name": "python"
  }
 },
 "nbformat": 4,
 "nbformat_minor": 2
}
