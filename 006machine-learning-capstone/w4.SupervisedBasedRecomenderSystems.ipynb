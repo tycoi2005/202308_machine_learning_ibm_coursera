{
 "cells": [
  {
   "cell_type": "markdown",
   "metadata": {},
   "source": [
    "# Supervised Based REcommender Systems\n",
    "\n",
    "In this module, you will predict course ratings using neural networks. In the first lab, you will train neural networks to predict course ratings while simultaneously extracting users' and items' latent features. In lab 2, you will be given course interaction feature vectors as input data. Using regression analysis, you will calculate numerical rating scores that predict whether a student will audit or complete a course. Lab 3 is similar to lab 2 but instead of using regression you will use a classification model. You will extract user and item embedding feature vectors from a neural network. With those embedding feature vectors, you will create an interaction feature vector and use that to build a classification model. The model maps the interaction feature vector to a rating mode that predicts whether a learner will audit or complete a course.\n",
    "\n",
    "Learning Objectives\n",
    "- Train a neural network to extract user and item latent features from hidden layers\n",
    "- Predict course ratings with trained neural networks\n",
    "- Construct regression and classification models to predict ratings using combined embedding vectors"
   ]
  }
 ],
 "metadata": {
  "language_info": {
   "name": "python"
  }
 },
 "nbformat": 4,
 "nbformat_minor": 2
}
