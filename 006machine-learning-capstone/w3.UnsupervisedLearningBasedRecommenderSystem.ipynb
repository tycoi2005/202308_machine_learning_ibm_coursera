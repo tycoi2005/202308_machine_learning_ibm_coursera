{
 "cells": [
  {
   "cell_type": "markdown",
   "metadata": {},
   "source": [
    "# Unsupervised Learning Based Recommender System\n",
    "\n",
    "In module 3, you will create three course recommendation systems using different methods. In lab 1, you will create a course recommendation system based on user profile and course genre matrices by computing an interest score for each course and recommend the courses with the highest interest scores. In the second lab, you will generate a course similarity matrix to create the recommendation system. In the third lab, you will implement a clustering-based recommender system algorithm using K-means clustering and principal component analysis based on group members’ course enrollment history. In labs four and five you will use collaborative filtering to make predictions about a user’s interest based on a collection of other users’ similar preferences. In lab 4, you will perform KNN-based collaborative filtering and in lab 5, you will use non-negative matrix factorization.\n",
    "\n",
    "Learning Objectives\n",
    "- Apply K-means clustering using feature vectors\n",
    "- Apply principal component analysis (PCA) on feature vectors to reduce dimensions\n",
    "- Generate course recommendations based on other group members’ enrollment history\n",
    "- Calculate the similarity between courses from a similarity matrix\n",
    "- Create a course recommender system using user profiles, already enrolled courses, and course genres\n",
    "- Apply KNN-based collaborative filtering on a user-item interaction matrix\n",
    "- Apply non-negative matrix factorization collaborative filtering on a user-item interaction matrix"
   ]
  }
 ],
 "metadata": {
  "language_info": {
   "name": "python"
  }
 },
 "nbformat": 4,
 "nbformat_minor": 2
}
