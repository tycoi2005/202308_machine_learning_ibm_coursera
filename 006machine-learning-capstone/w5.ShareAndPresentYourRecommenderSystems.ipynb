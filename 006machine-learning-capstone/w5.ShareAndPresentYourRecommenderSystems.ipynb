{
 "cells": [
  {
   "cell_type": "markdown",
   "metadata": {},
   "source": [
    "# Share and Present Your Recommender Systems\n",
    "\n",
    "In this module, you will be introduced to Streamlit and have the opportunity to build a Streamlit app to showcase your work in previous modules. You will review guidelines and best practices for creating successful reports. As well you may wish to review instructions on creating PowerPoint presentations and how to save a PowerPoint as a PDF.\n",
    "\n",
    "Learning Objectives\n",
    "- Identify elements of a successful data findings report\n",
    "- Describe best practices for presenting your findings"
   ]
  }
 ],
 "metadata": {
  "language_info": {
   "name": "python"
  }
 },
 "nbformat": 4,
 "nbformat_minor": 2
}
