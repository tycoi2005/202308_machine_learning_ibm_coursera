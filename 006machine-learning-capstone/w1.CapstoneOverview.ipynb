{
 "cells": [
  {
   "cell_type": "markdown",
   "metadata": {},
   "source": [
    "# Capstone Overview\n",
    "\n",
    "\n",
    "In this module, you will be introduced to the idea of recommender systems in the first video. All labs in subsequent modules are based on this concept. You will also be provided with an overview of the capstone project. In the last two exercises, you will obtain an IBM Cloud feature code and use that code to create an IBM Watson Studio account.\n",
    "\n",
    "## Learning Objectives\n",
    "\n",
    "Describe what a recommender system does\n",
    "\n",
    "Obtain an IBM Cloud feature code\n",
    "\n",
    "Create an IBM Watson Studio account\n",
    "\n",
    "Introduction to Machine Learning Capstone\n",
    "\n",
    "## Intro to Recommender Systems\n",
    "\n",
    "## Capstone Overview\n"
   ]
  }
 ],
 "metadata": {
  "language_info": {
   "name": "python"
  }
 },
 "nbformat": 4,
 "nbformat_minor": 2
}
