{
 "cells": [
  {
   "cell_type": "markdown",
   "metadata": {},
   "source": [
    "# Capstone Overview\n",
    "\n",
    "\n",
    "In this module, you will be introduced to the idea of recommender systems in the first video. All labs in subsequent modules are based on this concept. You will also be provided with an overview of the capstone project. In the last two exercises, you will obtain an IBM Cloud feature code and use that code to create an IBM Watson Studio account.\n",
    "\n",
    "## Learning Objectives\n",
    "\n",
    "Describe what a recommender system does\n",
    "\n",
    "Obtain an IBM Cloud feature code\n",
    "\n",
    "Create an IBM Watson Studio account\n",
    "\n",
    "Introduction to Machine Learning Capstone\n",
    "\n",
    "## Intro to Recommender Systems\n",
    "\n",
    "## Capstone Overview\n"
   ]
  },
  {
   "cell_type": "markdown",
   "metadata": {},
   "source": [
    "[https://www.coursera.org/learn/machine-learning-capstone/ungradedWidget/zrIgR/capstone-overview](https://www.coursera.org/learn/machine-learning-capstone/ungradedWidget/zrIgR/capstone-overview) "
   ]
  },
  {
   "cell_type": "markdown",
   "metadata": {},
   "source": [
    "Grading Schema\n",
    "\n",
    "Graded Quizzes: 30 pts\n",
    "\n",
    "Final presentation, peer-review: 70 pts"
   ]
  }
 ],
 "metadata": {
  "kernelspec": {
   "display_name": "Python 3",
   "language": "python",
   "name": "python3"
  },
  "language_info": {
   "name": "python",
   "version": "3.11.6"
  }
 },
 "nbformat": 4,
 "nbformat_minor": 2
}
