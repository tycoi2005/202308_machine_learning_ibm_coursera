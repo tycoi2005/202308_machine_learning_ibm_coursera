{
 "cells": [
  {
   "cell_type": "markdown",
   "metadata": {},
   "source": [
    "# Distance Metrics & Computational Hurdles\n",
    "\n",
    "## Learning Objectives\n",
    "Explain the curse of dimensionality, and how it makes clustering difficult with many features"
   ]
  },
  {
   "cell_type": "markdown",
   "metadata": {},
   "source": [
    "### Learning Goals\n",
    "\n",
    "In this section, we will cover:\n",
    "- Measures of distance between points\n",
    "- Applications of distance measures to clustering\n",
    "- Euclidean, Manhattan, Cosine, and Jaccard distance\n",
    "\n",
    "\n",
    "## Distance Metrics: Euclidean and Manhattan Distance\n",
    "\n",
    "### Eucledian distance (L2 distance)\n",
    "\n",
    "![](./images/04_EuclideanDistance.png)\n",
    "\n",
    "### Manhattan distance (L1 or city block)\n",
    "\n",
    "![](./images/05_ManhatanDistance.png)\n",
    "\n",
    "## Distance Metrics: Cosine and Jaccard Distance\n",
    "\n",
    "### Cosine distance\n",
    "\n",
    "![](./images/06_CosineDistance.png)\n",
    "\n",
    "Euclidean vs Cosine Distance\n",
    "\n",
    "- Euclidean is useful for coordinate based measurements.\n",
    "- Cosine is better for data such as text where location of occurrence is less important.\n",
    "- Euclidean distance is more sensitive to curse of dimensionality.\n",
    "\n",
    "### Jaccard Distance\n",
    "\n",
    "Applies to sets (like word occurrence)\n",
    "\n",
    "Sentence A: \"I like chocolate ice cream.\"\n",
    "\n",
    "set A = {I, like, chocolate, ice, cream}\n",
    "\n",
    "Sentence B: \"Do I want chocolate cream or vanilla cream?\"\n",
    "\n",
    "set B = {Do, I, want, chocolate, cream, or, vanilla}\n",
    "\n",
    "$$\n",
    "   Distance = 1 - \\dfrac{A \\cap B}{A \\cup B} = 1 - \\dfrac {len(shared)} {len(unique)} = 1 - \\dfrac{3}{9} = 0.66...\n",
    "$$"
   ]
  }
 ],
 "metadata": {
  "language_info": {
   "name": "python"
  },
  "orig_nbformat": 4
 },
 "nbformat": 4,
 "nbformat_minor": 2
}
