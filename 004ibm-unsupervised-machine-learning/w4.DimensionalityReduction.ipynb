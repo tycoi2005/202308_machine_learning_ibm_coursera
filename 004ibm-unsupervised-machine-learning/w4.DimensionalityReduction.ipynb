{
 "cells": [
  {
   "cell_type": "markdown",
   "metadata": {},
   "source": [
    "# Dimensionality Reduction\n",
    "\n",
    "This module introduces dimensionality reduction and Principal Component Analysis, which are powerful techniques for big data, imaging, and pre-processing data.\n",
    "\n",
    "Learning Objectives\n",
    "- Become familiar with common dimensionality reduction techniques, including Principal Component Analysis\n",
    "- Become familiar with the scikit learn syntax for PCA\n",
    "\n",
    "## Dimensionality Reduction: Overview\n",
    "\n",
    "![](./images/19_CurseOfDimensionality.png)\n",
    "\n",
    "### Dimensionality Reduction\n",
    "This is a very common situation, especially with enterprise datasets that often contain\n",
    "many features.\n",
    "- Data can be represented by fewer dimensions (features).\n",
    "- Reduce dimensionality by selecting subset (feature elimination).\n",
    "- Combine with linear and non-linear transformations."
   ]
  },
  {
   "cell_type": "markdown",
   "metadata": {},
   "source": [
    "## Dimensionality Reduction: Principal Component Analysis\n",
    "\n",
    "![](./images/20_pca.png)\n",
    "\n",
    "![](./images/21_PCA_FeatureScalingImportant.png)\n",
    "\n",
    "![](./images/22_SingleValueDecompositionSVD.png)\n",
    "\n",
    "### PCA: The Syntax\n",
    "\n",
    "```python\n",
    "from sklearn. decomposition import PCA\n",
    "\n",
    "#Create an instance of the class.\n",
    "PCAinst = PCA (n_components=3) # final number of components\n",
    "\n",
    "#Fit the instance on the data and then transform the data.\n",
    "X_pca = PCAinst.fit_transform(X_train)\n",
    "\n",
    "#For example, we can transform the customer churn dataset, which has around 20 numeric\n",
    "#features, to one with only 3 features.\n",
    "\n",
    "```\n",
    "\n",
    "## Matrix Review\n",
    "\n",
    "## Singular Value Decomposition"
   ]
  }
 ],
 "metadata": {
  "language_info": {
   "name": "python"
  },
  "orig_nbformat": 4
 },
 "nbformat": 4,
 "nbformat_minor": 2
}
