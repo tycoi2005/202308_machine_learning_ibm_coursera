{
 "cells": [
  {
   "cell_type": "markdown",
   "metadata": {},
   "source": [
    "# Non Linear and Distance-based Dimensionality reduction\n",
    "\n",
    "This module introduces dimensionality reduction techniques like Kernal Principal Component Analysis and multidimensional scaling. These methods are more powerful than Principal Component Analysis in many applications.\n",
    "\n",
    "## Learning Objectives\n",
    "\n",
    "Explain the difference between PCA and Kernel PCA\n",
    "\n",
    "Become familiar with more dimensionality reduction techniques, including Kernel PCA and MDS\n",
    "\n",
    "Become familiar with Kernel PCA and MDS syntax in scikit learn"
   ]
  },
  {
   "cell_type": "markdown",
   "metadata": {},
   "source": [
    "## Kernel Principal Component Analysis and Multidimensional Scaling\n",
    "\n",
    "![](./images/23_NonLinearFeatures.png)\n",
    "\n",
    "### Kernel PCA\n",
    "\n",
    "![](./images/24_KernelPCA.png)\n",
    "\n",
    "![](./images/25_KernelPCA.png)\n",
    "\n",
    "\n",
    "### Kernel PCA: The Syntax\n",
    "\n",
    "```python\n",
    "# Import the class containing the dimensionality reduction method.\n",
    "from sklearn. decomposition import KernelPCA\n",
    "\n",
    "# Create an instance of the class.\n",
    "kPCA = KernelPCA (n_components=3, kernel='rbf*, gamma=1.0)\n",
    "\n",
    "#Fit the instance on the data and then transform the data.\n",
    "X_kpca = kpca.fit_tranform(X)\n",
    "```"
   ]
  },
  {
   "cell_type": "markdown",
   "metadata": {},
   "source": [
    "### Multi-Dimensional Scaling (MDS)\n",
    "- Non-linear transformation\n",
    "- Doesn't focus on maintaining overall variance.\n",
    "- Instead, maintains geometric distances between points.\n",
    "\n",
    "![](./images/26_mds.png)\n",
    "\n",
    "### Multi-Dimensional Scaling: The Syntax\n",
    "```python\n",
    "# Import the class containing the dimensionality reduction method.\n",
    "from sklearn.decomposition import MDS\n",
    "\n",
    "# Create an instance of the class.\n",
    "mds = MDS (n_components=2)\n",
    "\n",
    "# Fit the instance on the data and then transform the data.\n",
    "X_mds = mds.fit_transform(mds)\n",
    "\n",
    "# Many other manifold dimensionality methods exist: Isomap, TSNE. Interpretation here is\n",
    "# similar to PCA, although the approach to decomposition varies.\n",
    "\n",
    "```\n"
   ]
  },
  {
   "cell_type": "markdown",
   "metadata": {},
   "source": []
  }
 ],
 "metadata": {
  "language_info": {
   "name": "python"
  },
  "orig_nbformat": 4
 },
 "nbformat": 4,
 "nbformat_minor": 2
}
