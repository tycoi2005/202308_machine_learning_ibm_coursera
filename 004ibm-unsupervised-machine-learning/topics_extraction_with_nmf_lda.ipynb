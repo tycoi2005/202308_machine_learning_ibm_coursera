{
  "cells": [
    {
      "cell_type": "code",
      "execution_count": 1,
      "metadata": {
        "collapsed": false
      },
      "outputs": [],
      "source": [
        "%matplotlib inline"
      ]
    },
    {
      "cell_type": "markdown",
      "metadata": {},
      "source": [
        "\n",
        "# Topic extraction with Non-negative Matrix Factorization and Latent Dirichlet Allocation\n",
        "\n",
        "\n",
        "This is an example of applying Non-negative Matrix Factorization\n",
        "and Latent Dirichlet Allocation on a corpus of documents and\n",
        "extract additive models of the topic structure of the corpus.\n",
        "The output is a list of topics, each represented as a list of terms\n",
        "(weights are not shown).\n",
        "\n",
        "The default parameters (n_samples / n_features / n_topics) should make\n",
        "the example runnable in a couple of tens of seconds. You can try to\n",
        "increase the dimensions of the problem, but be aware that the time\n",
        "complexity is polynomial in NMF. In LDA, the time complexity is\n",
        "proportional to (n_samples * iterations).\n"
      ]
    },
    {
      "cell_type": "code",
      "execution_count": 2,
      "metadata": {
        "collapsed": false
      },
      "outputs": [
        {
          "name": "stdout",
          "output_type": "stream",
          "text": [
            "Loading dataset...\n",
            "done in 556.438s.\n",
            "Extracting tf-idf features for NMF...\n",
            "done in 0.144s.\n",
            "Extracting tf features for LDA...\n",
            "done in 0.120s.\n",
            "Fitting the NMF model with tf-idf features, n_samples=2000 and n_features=1000...\n"
          ]
        },
        {
          "ename": "TypeError",
          "evalue": "NMF.__init__() got an unexpected keyword argument 'alpha'",
          "output_type": "error",
          "traceback": [
            "\u001b[0;31m---------------------------------------------------------------------------\u001b[0m",
            "\u001b[0;31mTypeError\u001b[0m                                 Traceback (most recent call last)",
            "\u001b[1;32m/Users/macos/LearningSpace/202308_machine_learning_ibm_coursera/004ibm-unsupervised-machine-learning/topics_extraction_with_nmf_lda.ipynb Cell 3\u001b[0m line \u001b[0;36m6\n\u001b[1;32m     <a href='vscode-notebook-cell:/Users/macos/LearningSpace/202308_machine_learning_ibm_coursera/004ibm-unsupervised-machine-learning/topics_extraction_with_nmf_lda.ipynb#W2sZmlsZQ%3D%3D?line=57'>58</a>\u001b[0m \u001b[39mprint\u001b[39m(\u001b[39m\"\u001b[39m\u001b[39mFitting the NMF model with tf-idf features, \u001b[39m\u001b[39m\"\u001b[39m\n\u001b[1;32m     <a href='vscode-notebook-cell:/Users/macos/LearningSpace/202308_machine_learning_ibm_coursera/004ibm-unsupervised-machine-learning/topics_extraction_with_nmf_lda.ipynb#W2sZmlsZQ%3D%3D?line=58'>59</a>\u001b[0m       \u001b[39m\"\u001b[39m\u001b[39mn_samples=\u001b[39m\u001b[39m%d\u001b[39;00m\u001b[39m and n_features=\u001b[39m\u001b[39m%d\u001b[39;00m\u001b[39m...\u001b[39m\u001b[39m\"\u001b[39m\n\u001b[1;32m     <a href='vscode-notebook-cell:/Users/macos/LearningSpace/202308_machine_learning_ibm_coursera/004ibm-unsupervised-machine-learning/topics_extraction_with_nmf_lda.ipynb#W2sZmlsZQ%3D%3D?line=59'>60</a>\u001b[0m       \u001b[39m%\u001b[39m (n_samples, n_features))\n\u001b[1;32m     <a href='vscode-notebook-cell:/Users/macos/LearningSpace/202308_machine_learning_ibm_coursera/004ibm-unsupervised-machine-learning/topics_extraction_with_nmf_lda.ipynb#W2sZmlsZQ%3D%3D?line=60'>61</a>\u001b[0m t0 \u001b[39m=\u001b[39m time()\n\u001b[0;32m---> <a href='vscode-notebook-cell:/Users/macos/LearningSpace/202308_machine_learning_ibm_coursera/004ibm-unsupervised-machine-learning/topics_extraction_with_nmf_lda.ipynb#W2sZmlsZQ%3D%3D?line=61'>62</a>\u001b[0m nmf \u001b[39m=\u001b[39m NMF(n_components\u001b[39m=\u001b[39;49mn_topics, random_state\u001b[39m=\u001b[39;49m\u001b[39m1\u001b[39;49m,\n\u001b[1;32m     <a href='vscode-notebook-cell:/Users/macos/LearningSpace/202308_machine_learning_ibm_coursera/004ibm-unsupervised-machine-learning/topics_extraction_with_nmf_lda.ipynb#W2sZmlsZQ%3D%3D?line=62'>63</a>\u001b[0m           alpha\u001b[39m=\u001b[39;49m\u001b[39m.1\u001b[39;49m, l1_ratio\u001b[39m=\u001b[39;49m\u001b[39m.5\u001b[39;49m)\u001b[39m.\u001b[39mfit(tfidf)\n\u001b[1;32m     <a href='vscode-notebook-cell:/Users/macos/LearningSpace/202308_machine_learning_ibm_coursera/004ibm-unsupervised-machine-learning/topics_extraction_with_nmf_lda.ipynb#W2sZmlsZQ%3D%3D?line=63'>64</a>\u001b[0m \u001b[39mprint\u001b[39m(\u001b[39m\"\u001b[39m\u001b[39mdone in \u001b[39m\u001b[39m%0.3f\u001b[39;00m\u001b[39ms.\u001b[39m\u001b[39m\"\u001b[39m \u001b[39m%\u001b[39m (time() \u001b[39m-\u001b[39m t0))\n\u001b[1;32m     <a href='vscode-notebook-cell:/Users/macos/LearningSpace/202308_machine_learning_ibm_coursera/004ibm-unsupervised-machine-learning/topics_extraction_with_nmf_lda.ipynb#W2sZmlsZQ%3D%3D?line=65'>66</a>\u001b[0m \u001b[39mprint\u001b[39m(\u001b[39m\"\u001b[39m\u001b[39m\\n\u001b[39;00m\u001b[39mTopics in NMF model:\u001b[39m\u001b[39m\"\u001b[39m)\n",
            "\u001b[0;31mTypeError\u001b[0m: NMF.__init__() got an unexpected keyword argument 'alpha'"
          ]
        }
      ],
      "source": [
        "# Author: Olivier Grisel <olivier.grisel@ensta.org>\n",
        "#         Lars Buitinck\n",
        "#         Chyi-Kwei Yau <chyikwei.yau@gmail.com>\n",
        "# License: BSD 3 clause\n",
        "\n",
        "from __future__ import print_function\n",
        "from time import time\n",
        "\n",
        "from sklearn.feature_extraction.text import TfidfVectorizer, CountVectorizer\n",
        "from sklearn.decomposition import NMF, LatentDirichletAllocation\n",
        "from sklearn.datasets import fetch_20newsgroups\n",
        "\n",
        "n_samples = 2000\n",
        "n_features = 1000\n",
        "n_topics = 10\n",
        "n_top_words = 20\n",
        "\n",
        "\n",
        "def print_top_words(model, feature_names, n_top_words):\n",
        "    for topic_idx, topic in enumerate(model.components_):\n",
        "        print(\"Topic #%d:\" % topic_idx)\n",
        "        print(\" \".join([feature_names[i]\n",
        "                        for i in topic.argsort()[:-n_top_words - 1:-1]]))\n",
        "    print()\n",
        "\n",
        "\n",
        "# Load the 20 newsgroups dataset and vectorize it. We use a few heuristics\n",
        "# to filter out useless terms early on: the posts are stripped of headers,\n",
        "# footers and quoted replies, and common English words, words occurring in\n",
        "# only one document or in at least 95% of the documents are removed.\n",
        "\n",
        "print(\"Loading dataset...\")\n",
        "t0 = time()\n",
        "dataset = fetch_20newsgroups(shuffle=True, random_state=1,\n",
        "                             remove=('headers', 'footers', 'quotes'))\n",
        "data_samples = dataset.data[:n_samples]\n",
        "print(\"done in %0.3fs.\" % (time() - t0))\n",
        "\n",
        "# Use tf-idf features for NMF.\n",
        "print(\"Extracting tf-idf features for NMF...\")\n",
        "tfidf_vectorizer = TfidfVectorizer(max_df=0.95, min_df=2,\n",
        "                                   max_features=n_features,\n",
        "                                   stop_words='english')\n",
        "t0 = time()\n",
        "tfidf = tfidf_vectorizer.fit_transform(data_samples)\n",
        "print(\"done in %0.3fs.\" % (time() - t0))\n",
        "\n",
        "# Use tf (raw term count) features for LDA.\n",
        "print(\"Extracting tf features for LDA...\")\n",
        "tf_vectorizer = CountVectorizer(max_df=0.95, min_df=2,\n",
        "                                max_features=n_features,\n",
        "                                stop_words='english')\n",
        "t0 = time()\n",
        "tf = tf_vectorizer.fit_transform(data_samples)\n",
        "print(\"done in %0.3fs.\" % (time() - t0))\n",
        "\n",
        "# Fit the NMF model\n",
        "print(\"Fitting the NMF model with tf-idf features, \"\n",
        "      \"n_samples=%d and n_features=%d...\"\n",
        "      % (n_samples, n_features))\n",
        "t0 = time()\n",
        "nmf = NMF(n_components=n_topics, random_state=1,\n",
        "          alpha=.1, l1_ratio=.5).fit(tfidf)\n",
        "print(\"done in %0.3fs.\" % (time() - t0))\n",
        "\n",
        "print(\"\\nTopics in NMF model:\")\n",
        "tfidf_feature_names = tfidf_vectorizer.get_feature_names()\n",
        "print_top_words(nmf, tfidf_feature_names, n_top_words)\n",
        "\n",
        "print(\"Fitting LDA models with tf features, \"\n",
        "      \"n_samples=%d and n_features=%d...\"\n",
        "      % (n_samples, n_features))\n",
        "lda = LatentDirichletAllocation(n_topics=n_topics, max_iter=5,\n",
        "                                learning_method='online',\n",
        "                                learning_offset=50.,\n",
        "                                random_state=0)\n",
        "t0 = time()\n",
        "lda.fit(tf)\n",
        "print(\"done in %0.3fs.\" % (time() - t0))\n",
        "\n",
        "print(\"\\nTopics in LDA model:\")\n",
        "tf_feature_names = tf_vectorizer.get_feature_names()\n",
        "print_top_words(lda, tf_feature_names, n_top_words)"
      ]
    }
  ],
  "metadata": {
    "kernelspec": {
      "display_name": "Python 3",
      "language": "python",
      "name": "python3"
    },
    "language_info": {
      "codemirror_mode": {
        "name": "ipython",
        "version": 3
      },
      "file_extension": ".py",
      "mimetype": "text/x-python",
      "name": "python",
      "nbconvert_exporter": "python",
      "pygments_lexer": "ipython3",
      "version": "3.11.5"
    }
  },
  "nbformat": 4,
  "nbformat_minor": 0
}
